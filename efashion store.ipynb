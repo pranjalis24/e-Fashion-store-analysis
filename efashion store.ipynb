{
 "cells": [
  {
   "cell_type": "code",
   "execution_count": 123,
   "id": "502b6f32",
   "metadata": {},
   "outputs": [],
   "source": [
    "# import required libraries\n",
    "import pandas as pd\n",
    "import numpy as np\n",
    "import matplotlib.pyplot as plt\n",
    "import seaborn as sns\n",
    "\n",
    "pd.set_option('display.max_columns', 1000, 'display.width', 1000, 'display.max_rows',1000)"
   ]
  },
  {
   "cell_type": "code",
   "execution_count": 124,
   "id": "b533fa7f",
   "metadata": {},
   "outputs": [],
   "source": [
    "# read customer level data\n",
    "df = pd.read_csv(\"6M-0K-99K.users.dataset.public.csv\")\n",
    "\n",
    "# read country names (English) data\n",
    "country_data = pd.read_csv(\"country_data.csv\")"
   ]
  },
  {
   "cell_type": "code",
   "execution_count": 125,
   "id": "2400e2fb",
   "metadata": {},
   "outputs": [
    {
     "data": {
      "text/plain": [
       "(98913, 24)"
      ]
     },
     "execution_count": 125,
     "metadata": {},
     "output_type": "execute_result"
    }
   ],
   "source": [
    "# check count of rows and columns in the dataset\n",
    "df.shape"
   ]
  },
  {
   "cell_type": "code",
   "execution_count": 126,
   "id": "d23c7d77",
   "metadata": {},
   "outputs": [
    {
     "data": {
      "text/html": [
       "<div>\n",
       "<style scoped>\n",
       "    .dataframe tbody tr th:only-of-type {\n",
       "        vertical-align: middle;\n",
       "    }\n",
       "\n",
       "    .dataframe tbody tr th {\n",
       "        vertical-align: top;\n",
       "    }\n",
       "\n",
       "    .dataframe thead th {\n",
       "        text-align: right;\n",
       "    }\n",
       "</style>\n",
       "<table border=\"1\" class=\"dataframe\">\n",
       "  <thead>\n",
       "    <tr style=\"text-align: right;\">\n",
       "      <th></th>\n",
       "      <th>identifierHash</th>\n",
       "      <th>type</th>\n",
       "      <th>country</th>\n",
       "      <th>language</th>\n",
       "      <th>socialNbFollowers</th>\n",
       "      <th>socialNbFollows</th>\n",
       "      <th>socialProductsLiked</th>\n",
       "      <th>productsListed</th>\n",
       "      <th>productsSold</th>\n",
       "      <th>productsPassRate</th>\n",
       "      <th>productsWished</th>\n",
       "      <th>productsBought</th>\n",
       "      <th>gender</th>\n",
       "      <th>civilityGenderId</th>\n",
       "      <th>civilityTitle</th>\n",
       "      <th>hasAnyApp</th>\n",
       "      <th>hasAndroidApp</th>\n",
       "      <th>hasIosApp</th>\n",
       "      <th>hasProfilePicture</th>\n",
       "      <th>daysSinceLastLogin</th>\n",
       "      <th>seniority</th>\n",
       "      <th>seniorityAsMonths</th>\n",
       "      <th>seniorityAsYears</th>\n",
       "      <th>countryCode</th>\n",
       "    </tr>\n",
       "  </thead>\n",
       "  <tbody>\n",
       "    <tr>\n",
       "      <th>66332</th>\n",
       "      <td>-860757731056196670</td>\n",
       "      <td>user</td>\n",
       "      <td>Allemagne</td>\n",
       "      <td>en</td>\n",
       "      <td>5</td>\n",
       "      <td>9</td>\n",
       "      <td>1</td>\n",
       "      <td>0</td>\n",
       "      <td>0</td>\n",
       "      <td>0.0</td>\n",
       "      <td>6</td>\n",
       "      <td>0</td>\n",
       "      <td>F</td>\n",
       "      <td>2</td>\n",
       "      <td>mrs</td>\n",
       "      <td>False</td>\n",
       "      <td>False</td>\n",
       "      <td>False</td>\n",
       "      <td>False</td>\n",
       "      <td>395</td>\n",
       "      <td>2857</td>\n",
       "      <td>95.23</td>\n",
       "      <td>7.94</td>\n",
       "      <td>de</td>\n",
       "    </tr>\n",
       "    <tr>\n",
       "      <th>949</th>\n",
       "      <td>-8649394264926591476</td>\n",
       "      <td>user</td>\n",
       "      <td>Etats-Unis</td>\n",
       "      <td>en</td>\n",
       "      <td>3</td>\n",
       "      <td>8</td>\n",
       "      <td>0</td>\n",
       "      <td>0</td>\n",
       "      <td>0</td>\n",
       "      <td>0.0</td>\n",
       "      <td>0</td>\n",
       "      <td>0</td>\n",
       "      <td>F</td>\n",
       "      <td>2</td>\n",
       "      <td>mrs</td>\n",
       "      <td>False</td>\n",
       "      <td>False</td>\n",
       "      <td>False</td>\n",
       "      <td>True</td>\n",
       "      <td>709</td>\n",
       "      <td>3205</td>\n",
       "      <td>106.83</td>\n",
       "      <td>8.90</td>\n",
       "      <td>us</td>\n",
       "    </tr>\n",
       "    <tr>\n",
       "      <th>4552</th>\n",
       "      <td>-5610959267019636868</td>\n",
       "      <td>user</td>\n",
       "      <td>France</td>\n",
       "      <td>fr</td>\n",
       "      <td>4</td>\n",
       "      <td>8</td>\n",
       "      <td>0</td>\n",
       "      <td>0</td>\n",
       "      <td>0</td>\n",
       "      <td>0.0</td>\n",
       "      <td>0</td>\n",
       "      <td>0</td>\n",
       "      <td>F</td>\n",
       "      <td>2</td>\n",
       "      <td>mrs</td>\n",
       "      <td>False</td>\n",
       "      <td>False</td>\n",
       "      <td>False</td>\n",
       "      <td>True</td>\n",
       "      <td>707</td>\n",
       "      <td>3203</td>\n",
       "      <td>106.77</td>\n",
       "      <td>8.90</td>\n",
       "      <td>fr</td>\n",
       "    </tr>\n",
       "    <tr>\n",
       "      <th>94953</th>\n",
       "      <td>-863130325403254711</td>\n",
       "      <td>user</td>\n",
       "      <td>Etats-Unis</td>\n",
       "      <td>en</td>\n",
       "      <td>3</td>\n",
       "      <td>8</td>\n",
       "      <td>0</td>\n",
       "      <td>0</td>\n",
       "      <td>0</td>\n",
       "      <td>0.0</td>\n",
       "      <td>0</td>\n",
       "      <td>0</td>\n",
       "      <td>F</td>\n",
       "      <td>2</td>\n",
       "      <td>mrs</td>\n",
       "      <td>False</td>\n",
       "      <td>False</td>\n",
       "      <td>False</td>\n",
       "      <td>True</td>\n",
       "      <td>708</td>\n",
       "      <td>3204</td>\n",
       "      <td>106.80</td>\n",
       "      <td>8.90</td>\n",
       "      <td>us</td>\n",
       "    </tr>\n",
       "    <tr>\n",
       "      <th>19029</th>\n",
       "      <td>2890967942485392556</td>\n",
       "      <td>user</td>\n",
       "      <td>France</td>\n",
       "      <td>fr</td>\n",
       "      <td>3</td>\n",
       "      <td>8</td>\n",
       "      <td>0</td>\n",
       "      <td>0</td>\n",
       "      <td>0</td>\n",
       "      <td>0.0</td>\n",
       "      <td>0</td>\n",
       "      <td>0</td>\n",
       "      <td>M</td>\n",
       "      <td>1</td>\n",
       "      <td>mr</td>\n",
       "      <td>True</td>\n",
       "      <td>False</td>\n",
       "      <td>True</td>\n",
       "      <td>True</td>\n",
       "      <td>697</td>\n",
       "      <td>3200</td>\n",
       "      <td>106.67</td>\n",
       "      <td>8.89</td>\n",
       "      <td>fr</td>\n",
       "    </tr>\n",
       "  </tbody>\n",
       "</table>\n",
       "</div>"
      ],
      "text/plain": [
       "            identifierHash  type     country language  socialNbFollowers  socialNbFollows  socialProductsLiked  productsListed  productsSold  productsPassRate  productsWished  productsBought gender  civilityGenderId civilityTitle  hasAnyApp  hasAndroidApp  hasIosApp  hasProfilePicture  daysSinceLastLogin  seniority  seniorityAsMonths  seniorityAsYears countryCode\n",
       "66332  -860757731056196670  user   Allemagne       en                  5                9                    1               0             0               0.0               6               0      F                 2           mrs      False          False      False              False                 395       2857              95.23              7.94          de\n",
       "949   -8649394264926591476  user  Etats-Unis       en                  3                8                    0               0             0               0.0               0               0      F                 2           mrs      False          False      False               True                 709       3205             106.83              8.90          us\n",
       "4552  -5610959267019636868  user      France       fr                  4                8                    0               0             0               0.0               0               0      F                 2           mrs      False          False      False               True                 707       3203             106.77              8.90          fr\n",
       "94953  -863130325403254711  user  Etats-Unis       en                  3                8                    0               0             0               0.0               0               0      F                 2           mrs      False          False      False               True                 708       3204             106.80              8.90          us\n",
       "19029  2890967942485392556  user      France       fr                  3                8                    0               0             0               0.0               0               0      M                 1            mr       True          False       True               True                 697       3200             106.67              8.89          fr"
      ]
     },
     "execution_count": 126,
     "metadata": {},
     "output_type": "execute_result"
    }
   ],
   "source": [
    "df.sample(5)"
   ]
  },
  {
   "cell_type": "markdown",
   "id": "6159e7bf",
   "metadata": {},
   "source": [
    "# Data Dictionary\n",
    "\n",
    "| Feature | Description  |\n",
    "| :- | :- |\n",
    "| identifierHash | Anonymous unique id |\n",
    "|language | The user's preferred language (the language of their interface when using the site) |     \n",
    "|socialNbFollowers | Number of users who follow this user's activity |      \n",
    "|socialNbFollows | Number of user account this user follows |\n",
    "|socialProductsLiked | Number of products this user liked |\n",
    "|productsListed | Number of currently unsold products that this user has uploaded |     \n",
    "|productsSold | Number of products this user has sold |      \n",
    "|productsPassRate | % of products meeting the product description |      \n",
    "|productsWished | Number of products this user added to his/her wishlist |        \n",
    "|productsBought | Number of products this user bought |        \n",
    "|gender | user's gender |                \n",
    "|hasAnyApp | user has ever used any of the store's official app |             \n",
    "|hasAndroidApp | user has ever used the official Android app |         \n",
    "|hasIosApp | user has ever used the official iOS app |             \n",
    "|hasProfilePicture | user has a custom profile picture |      \n",
    "|daysSinceLastLogin | Number of days since the last login. All user data were fetched the same day |\n",
    "|seniority | Number of days since the user registered |             \n",
    "|seniorityAsMonths | Seniority expressed in months |     \n",
    "|seniorityAsYears | Seniority expressed in years |\n",
    "|country | Country name |           \n",
    "|landmass | Continent name |              "
   ]
  },
  {
   "cell_type": "markdown",
   "id": "867e4ff7",
   "metadata": {},
   "source": [
    "# Data Exploration"
   ]
  },
  {
   "cell_type": "markdown",
   "id": "a1f750a8",
   "metadata": {},
   "source": [
    "### 1. Number of users"
   ]
  },
  {
   "cell_type": "code",
   "execution_count": 128,
   "id": "45fb9cff",
   "metadata": {},
   "outputs": [
    {
     "data": {
      "text/plain": [
       "98913"
      ]
     },
     "execution_count": 128,
     "metadata": {},
     "output_type": "execute_result"
    }
   ],
   "source": [
    "len(df['identifierHash'])"
   ]
  },
  {
   "cell_type": "markdown",
   "id": "cc74805d",
   "metadata": {},
   "source": [
    "There are details of over 98,000 users in the dataset."
   ]
  },
  {
   "cell_type": "markdown",
   "id": "306eb6dd",
   "metadata": {},
   "source": [
    "### 2. Inactive days since last login"
   ]
  },
  {
   "cell_type": "code",
   "execution_count": 129,
   "id": "cbaa1a3c",
   "metadata": {},
   "outputs": [
    {
     "data": {
      "image/png": "[encoded data removed]",
      "text/plain": [
       "<Figure size 640x480 with 1 Axes>"
      ]
     },
     "metadata": {},
     "output_type": "display_data"
    }
   ],
   "source": [
    "df['daysSinceLastLogin'].hist(bins = 100).plot();"
   ]
  },
  {
   "cell_type": "markdown",
   "id": "cdd190b0",
   "metadata": {},
   "source": [
    "The range of horizontal axis goes up to 700,000 that seems doubtful. Let's check maximum seniority of the users."
   ]
  },
  {
   "cell_type": "code",
   "execution_count": 130,
   "id": "25089bcd",
   "metadata": {},
   "outputs": [
    {
     "data": {
      "text/plain": [
       "8.9"
      ]
     },
     "execution_count": 130,
     "metadata": {},
     "output_type": "execute_result"
    }
   ],
   "source": [
    "df['seniorityAsYears'].max()"
   ]
  },
  {
   "cell_type": "code",
   "execution_count": 131,
   "id": "0b935724",
   "metadata": {},
   "outputs": [
    {
     "data": {
      "text/plain": [
       "3285"
      ]
     },
     "execution_count": 131,
     "metadata": {},
     "output_type": "execute_result"
    }
   ],
   "source": [
    "9*365"
   ]
  },
  {
   "cell_type": "markdown",
   "id": "ace4beb7",
   "metadata": {},
   "source": [
    "Maximum duration any user has been associated with the platform is 8.9 years. Therefore, maximum number of inactive days cannot be more than 3285. Let's check how many users have daysSinceLastLogin > 3285."
   ]
  },
  {
   "cell_type": "code",
   "execution_count": 132,
   "id": "4f19d9a1",
   "metadata": {},
   "outputs": [
    {
     "data": {
      "text/plain": [
       "10"
      ]
     },
     "execution_count": 132,
     "metadata": {},
     "output_type": "execute_result"
    }
   ],
   "source": [
    "len(df[df['daysSinceLastLogin'] > 3285])"
   ]
  },
  {
   "cell_type": "code",
   "execution_count": 133,
   "id": "fb7bb2d0",
   "metadata": {},
   "outputs": [
    {
     "data": {
      "image/png": "[encoded data removed]",
      "text/plain": [
       "<Figure size 640x480 with 1 Axes>"
      ]
     },
     "metadata": {},
     "output_type": "display_data"
    }
   ],
   "source": [
    "df[df['daysSinceLastLogin'] <= 3285]['daysSinceLastLogin'].hist(bins = 100).plot();"
   ]
  },
  {
   "cell_type": "code",
   "execution_count": 134,
   "id": "7094e31d",
   "metadata": {},
   "outputs": [
    {
     "name": "stdout",
     "output_type": "stream",
     "text": [
      "0.20292580348386965\n",
      "0.7969730975705923\n"
     ]
    }
   ],
   "source": [
    "print(len(df[df['daysSinceLastLogin'] <= 450]) / len(df))\n",
    "print(len(df[(df['daysSinceLastLogin'] > 450) & (df['daysSinceLastLogin'] <= 3825)]) / len(df))"
   ]
  },
  {
   "cell_type": "markdown",
   "id": "ae2bfde4",
   "metadata": {},
   "source": [
    "According to the Pareto principle, in any business about 80% of company's revenue come from about 20% of its customers. So, around 20% of the customers have at least once logged in to the store in the last 450 days as per the insight above. These users should be given more importance than others."
   ]
  },
  {
   "cell_type": "markdown",
   "id": "38c140c3",
   "metadata": {},
   "source": [
    "### 3. Products purchased by the users"
   ]
  },
  {
   "cell_type": "markdown",
   "id": "916d7fcb",
   "metadata": {},
   "source": [
    "Proportion of users who purchased at least one product:"
   ]
  },
  {
   "cell_type": "code",
   "execution_count": 135,
   "id": "12b18ecd",
   "metadata": {},
   "outputs": [
    {
     "data": {
      "text/plain": [
       "0.054785518587041136"
      ]
     },
     "execution_count": 135,
     "metadata": {},
     "output_type": "execute_result"
    }
   ],
   "source": [
    "len(df[df['productsBought'] > 0])/len(df)"
   ]
  },
  {
   "cell_type": "markdown",
   "id": "a3f75376",
   "metadata": {},
   "source": [
    "Proportion of users who purchased more than one product:"
   ]
  },
  {
   "cell_type": "code",
   "execution_count": 136,
   "id": "c50e1515",
   "metadata": {},
   "outputs": [
    {
     "data": {
      "text/plain": [
       "0.021453196243163185"
      ]
     },
     "execution_count": 136,
     "metadata": {},
     "output_type": "execute_result"
    }
   ],
   "source": [
    "len(df[df['productsBought'] > 1])/len(df)"
   ]
  },
  {
   "cell_type": "markdown",
   "id": "fd196113",
   "metadata": {},
   "source": [
    "So, out of ~98,000 users, 5% users bought a product and 2% users bought multiple products."
   ]
  },
  {
   "cell_type": "markdown",
   "id": "6af3d3d0",
   "metadata": {},
   "source": [
    "Total products purchased from the store:"
   ]
  },
  {
   "cell_type": "code",
   "execution_count": 137,
   "id": "2fc4c827",
   "metadata": {},
   "outputs": [
    {
     "data": {
      "text/plain": [
       "17006"
      ]
     },
     "execution_count": 137,
     "metadata": {},
     "output_type": "execute_result"
    }
   ],
   "source": [
    "df['productsBought'].sum()"
   ]
  },
  {
   "cell_type": "markdown",
   "id": "d6757139",
   "metadata": {},
   "source": [
    "### 4. Products sold by the users"
   ]
  },
  {
   "cell_type": "code",
   "execution_count": 138,
   "id": "11503a43",
   "metadata": {},
   "outputs": [
    {
     "data": {
      "text/plain": [
       "0.0205837453115364"
      ]
     },
     "execution_count": 138,
     "metadata": {},
     "output_type": "execute_result"
    }
   ],
   "source": [
    "len(df[df['productsSold'] > 0])/len(df)"
   ]
  },
  {
   "cell_type": "code",
   "execution_count": 139,
   "id": "8aef4a9d",
   "metadata": {},
   "outputs": [
    {
     "data": {
      "text/plain": [
       "0.01131297200570198"
      ]
     },
     "execution_count": 139,
     "metadata": {},
     "output_type": "execute_result"
    }
   ],
   "source": [
    "len(df[df['productsSold'] > 1])/len(df)"
   ]
  },
  {
   "cell_type": "code",
   "execution_count": 140,
   "id": "f9e27ee4",
   "metadata": {},
   "outputs": [
    {
     "data": {
      "text/plain": [
       "12027"
      ]
     },
     "execution_count": 140,
     "metadata": {},
     "output_type": "execute_result"
    }
   ],
   "source": [
    "df['productsSold'].sum()"
   ]
  },
  {
   "cell_type": "markdown",
   "id": "4aee3d32",
   "metadata": {},
   "source": [
    "### 5. Products listed by the users"
   ]
  },
  {
   "cell_type": "code",
   "execution_count": 141,
   "id": "13e24bd1",
   "metadata": {},
   "outputs": [
    {
     "data": {
      "text/plain": [
       "0.017429458210750863"
      ]
     },
     "execution_count": 141,
     "metadata": {},
     "output_type": "execute_result"
    }
   ],
   "source": [
    "len(df[df['productsListed'] > 0])/len(df)"
   ]
  },
  {
   "cell_type": "code",
   "execution_count": 142,
   "id": "e788461a",
   "metadata": {},
   "outputs": [
    {
     "data": {
      "text/plain": [
       "9229"
      ]
     },
     "execution_count": 142,
     "metadata": {},
     "output_type": "execute_result"
    }
   ],
   "source": [
    "df['productsListed'].sum()"
   ]
  },
  {
   "cell_type": "markdown",
   "id": "484ee48e",
   "metadata": {},
   "source": [
    "### 6. Products kept in wishlist"
   ]
  },
  {
   "cell_type": "code",
   "execution_count": 143,
   "id": "e8d88882",
   "metadata": {},
   "outputs": [
    {
     "data": {
      "text/plain": [
       "0.09403212924489197"
      ]
     },
     "execution_count": 143,
     "metadata": {},
     "output_type": "execute_result"
    }
   ],
   "source": [
    "len(df[df['productsWished'] > 0])/len(df)"
   ]
  },
  {
   "cell_type": "code",
   "execution_count": 144,
   "id": "8c84f37f",
   "metadata": {},
   "outputs": [
    {
     "data": {
      "text/plain": [
       "9301"
      ]
     },
     "execution_count": 144,
     "metadata": {},
     "output_type": "execute_result"
    }
   ],
   "source": [
    "len(df[df['productsWished'] > 0])"
   ]
  },
  {
   "cell_type": "markdown",
   "id": "4bfddb9e",
   "metadata": {},
   "source": [
    "Around 10% of the users have kept at least a product in their wishlist."
   ]
  },
  {
   "cell_type": "markdown",
   "id": "bb469905",
   "metadata": {},
   "source": [
    "Let's find the count of users who have not just kept products in their wishlist but also made some purchases from the store."
   ]
  },
  {
   "cell_type": "code",
   "execution_count": 145,
   "id": "1003f1ff",
   "metadata": {},
   "outputs": [
    {
     "data": {
      "text/plain": [
       "446"
      ]
     },
     "execution_count": 145,
     "metadata": {},
     "output_type": "execute_result"
    }
   ],
   "source": [
    "len(df[(df['productsBought'] > 0) & (df['productsListed'] > 0)])"
   ]
  },
  {
   "cell_type": "markdown",
   "id": "1a08d400",
   "metadata": {},
   "source": [
    "### 7. Products liked by the users"
   ]
  },
  {
   "cell_type": "code",
   "execution_count": 146,
   "id": "d60e1798",
   "metadata": {},
   "outputs": [
    {
     "data": {
      "text/plain": [
       "[]"
      ]
     },
     "execution_count": 146,
     "metadata": {},
     "output_type": "execute_result"
    },
    {
     "data": {
      "image/png": "[encoded data removed]",
      "text/plain": [
       "<Figure size 640x480 with 1 Axes>"
      ]
     },
     "metadata": {},
     "output_type": "display_data"
    }
   ],
   "source": [
    "df['socialProductsLiked'].hist(bins = 100).plot()"
   ]
  },
  {
   "cell_type": "code",
   "execution_count": 147,
   "id": "c57faf2e",
   "metadata": {},
   "outputs": [
    {
     "data": {
      "text/plain": [
       "124"
      ]
     },
     "execution_count": 147,
     "metadata": {},
     "output_type": "execute_result"
    }
   ],
   "source": [
    "len(df[df['socialProductsLiked'] > 450])"
   ]
  },
  {
   "cell_type": "code",
   "execution_count": 148,
   "id": "b3c60f7b",
   "metadata": {},
   "outputs": [
    {
     "data": {
      "text/plain": [
       "0.1597565537391445"
      ]
     },
     "execution_count": 148,
     "metadata": {},
     "output_type": "execute_result"
    }
   ],
   "source": [
    "len(df[(df['socialProductsLiked'] > 0) & (df['socialProductsLiked'] <= 450)])/len(df)"
   ]
  },
  {
   "cell_type": "code",
   "execution_count": 149,
   "id": "9fc242e2",
   "metadata": {},
   "outputs": [
    {
     "data": {
      "text/plain": [
       "0.10656839849160374"
      ]
     },
     "execution_count": 149,
     "metadata": {},
     "output_type": "execute_result"
    }
   ],
   "source": [
    "len(df[(df['socialProductsLiked'] > 1) & (df['socialProductsLiked'] <= 450)])/len(df)"
   ]
  },
  {
   "cell_type": "markdown",
   "id": "3251634b",
   "metadata": {},
   "source": [
    "### 8. Users of mobile app"
   ]
  },
  {
   "cell_type": "code",
   "execution_count": 150,
   "id": "cdd0cdf7",
   "metadata": {},
   "outputs": [
    {
     "data": {
      "text/plain": [
       "False    0.735384\n",
       "True     0.264616\n",
       "Name: hasAnyApp, dtype: float64"
      ]
     },
     "execution_count": 150,
     "metadata": {},
     "output_type": "execute_result"
    }
   ],
   "source": [
    "df['hasAnyApp'].value_counts(normalize=True)"
   ]
  },
  {
   "cell_type": "code",
   "execution_count": 151,
   "id": "6fe70a7a",
   "metadata": {},
   "outputs": [
    {
     "data": {
      "text/html": [
       "<div>\n",
       "<style scoped>\n",
       "    .dataframe tbody tr th:only-of-type {\n",
       "        vertical-align: middle;\n",
       "    }\n",
       "\n",
       "    .dataframe tbody tr th {\n",
       "        vertical-align: top;\n",
       "    }\n",
       "\n",
       "    .dataframe thead th {\n",
       "        text-align: right;\n",
       "    }\n",
       "</style>\n",
       "<table border=\"1\" class=\"dataframe\">\n",
       "  <thead>\n",
       "    <tr style=\"text-align: right;\">\n",
       "      <th>hasAndroidApp</th>\n",
       "      <th>False</th>\n",
       "      <th>True</th>\n",
       "    </tr>\n",
       "    <tr>\n",
       "      <th>hasAnyApp</th>\n",
       "      <th></th>\n",
       "      <th></th>\n",
       "    </tr>\n",
       "  </thead>\n",
       "  <tbody>\n",
       "    <tr>\n",
       "      <th>False</th>\n",
       "      <td>72739</td>\n",
       "      <td>0</td>\n",
       "    </tr>\n",
       "    <tr>\n",
       "      <th>True</th>\n",
       "      <td>21355</td>\n",
       "      <td>4819</td>\n",
       "    </tr>\n",
       "  </tbody>\n",
       "</table>\n",
       "</div>"
      ],
      "text/plain": [
       "hasAndroidApp  False  True \n",
       "hasAnyApp                  \n",
       "False          72739      0\n",
       "True           21355   4819"
      ]
     },
     "execution_count": 151,
     "metadata": {},
     "output_type": "execute_result"
    }
   ],
   "source": [
    "pd.crosstab(df['hasAnyApp'], df['hasAndroidApp'])"
   ]
  },
  {
   "cell_type": "code",
   "execution_count": 152,
   "id": "7c31fd97",
   "metadata": {},
   "outputs": [
    {
     "data": {
      "text/html": [
       "<div>\n",
       "<style scoped>\n",
       "    .dataframe tbody tr th:only-of-type {\n",
       "        vertical-align: middle;\n",
       "    }\n",
       "\n",
       "    .dataframe tbody tr th {\n",
       "        vertical-align: top;\n",
       "    }\n",
       "\n",
       "    .dataframe thead th {\n",
       "        text-align: right;\n",
       "    }\n",
       "</style>\n",
       "<table border=\"1\" class=\"dataframe\">\n",
       "  <thead>\n",
       "    <tr style=\"text-align: right;\">\n",
       "      <th>hasIosApp</th>\n",
       "      <th>False</th>\n",
       "      <th>True</th>\n",
       "    </tr>\n",
       "    <tr>\n",
       "      <th>hasAnyApp</th>\n",
       "      <th></th>\n",
       "      <th></th>\n",
       "    </tr>\n",
       "  </thead>\n",
       "  <tbody>\n",
       "    <tr>\n",
       "      <th>False</th>\n",
       "      <td>72739</td>\n",
       "      <td>0</td>\n",
       "    </tr>\n",
       "    <tr>\n",
       "      <th>True</th>\n",
       "      <td>4647</td>\n",
       "      <td>21527</td>\n",
       "    </tr>\n",
       "  </tbody>\n",
       "</table>\n",
       "</div>"
      ],
      "text/plain": [
       "hasIosApp  False  True \n",
       "hasAnyApp              \n",
       "False      72739      0\n",
       "True        4647  21527"
      ]
     },
     "execution_count": 152,
     "metadata": {},
     "output_type": "execute_result"
    }
   ],
   "source": [
    "pd.crosstab(df['hasAnyApp'], df['hasIosApp'])"
   ]
  },
  {
   "cell_type": "code",
   "execution_count": 153,
   "id": "fb52fd43",
   "metadata": {},
   "outputs": [
    {
     "data": {
      "text/html": [
       "<div>\n",
       "<style scoped>\n",
       "    .dataframe tbody tr th:only-of-type {\n",
       "        vertical-align: middle;\n",
       "    }\n",
       "\n",
       "    .dataframe tbody tr th {\n",
       "        vertical-align: top;\n",
       "    }\n",
       "\n",
       "    .dataframe thead th {\n",
       "        text-align: right;\n",
       "    }\n",
       "</style>\n",
       "<table border=\"1\" class=\"dataframe\">\n",
       "  <thead>\n",
       "    <tr style=\"text-align: right;\">\n",
       "      <th>hasIosApp</th>\n",
       "      <th>False</th>\n",
       "      <th>True</th>\n",
       "    </tr>\n",
       "    <tr>\n",
       "      <th>hasAndroidApp</th>\n",
       "      <th></th>\n",
       "      <th></th>\n",
       "    </tr>\n",
       "  </thead>\n",
       "  <tbody>\n",
       "    <tr>\n",
       "      <th>False</th>\n",
       "      <td>72739</td>\n",
       "      <td>21355</td>\n",
       "    </tr>\n",
       "    <tr>\n",
       "      <th>True</th>\n",
       "      <td>4647</td>\n",
       "      <td>172</td>\n",
       "    </tr>\n",
       "  </tbody>\n",
       "</table>\n",
       "</div>"
      ],
      "text/plain": [
       "hasIosApp      False  True \n",
       "hasAndroidApp              \n",
       "False          72739  21355\n",
       "True            4647    172"
      ]
     },
     "execution_count": 153,
     "metadata": {},
     "output_type": "execute_result"
    }
   ],
   "source": [
    "pd.crosstab(df['hasAndroidApp'], df['hasIosApp'])"
   ]
  },
  {
   "cell_type": "markdown",
   "id": "19f5997f",
   "metadata": {},
   "source": [
    "### 9. Distribution of users based on regions"
   ]
  },
  {
   "cell_type": "code",
   "execution_count": 154,
   "id": "fdcaec37",
   "metadata": {},
   "outputs": [
    {
     "data": {
      "text/plain": [
       "France                                    25135\n",
       "Etats-Unis                                20602\n",
       "Royaume-Uni                               11310\n",
       "Italie                                     8015\n",
       "Allemagne                                  6567\n",
       "Espagne                                    5706\n",
       "Australie                                  2719\n",
       "Danemark                                   1892\n",
       "Suède                                      1826\n",
       "Belgique                                   1666\n",
       "Canada                                     1577\n",
       "Pays-Bas                                   1529\n",
       "Suisse                                      859\n",
       "Hong Kong                                   854\n",
       "Finlande                                    661\n",
       "Autriche                                    624\n",
       "Russie                                      490\n",
       "Irlande                                     452\n",
       "Chine                                       428\n",
       "Roumanie                                    329\n",
       "Singapour                                   260\n",
       "Grèce                                       229\n",
       "Portugal                                    212\n",
       "Pologne                                     193\n",
       "Mexique                                     191\n",
       "Norvège                                     178\n",
       "Maroc                                       167\n",
       "Japon                                       165\n",
       "Inde                                        157\n",
       "Arabie Saoudite                             143\n",
       "Corée du Sud                                138\n",
       "Taiwan                                      133\n",
       "Émirats arabes unis                         131\n",
       "Malaisie                                    119\n",
       "Croatie                                     116\n",
       "Nouvelle Zélande                            113\n",
       "Luxembourg                                  111\n",
       "Ukraine                                     110\n",
       "Turquie                                     105\n",
       "Israel                                      105\n",
       "Philippines                                  98\n",
       "Brésil                                       95\n",
       "Tunisie                                      85\n",
       "Afrique du Sud                               83\n",
       "Bulgarie                                     82\n",
       "Thailande                                    78\n",
       "Kowait                                       77\n",
       "Algérie                                      76\n",
       "Indonésie                                    75\n",
       "Viet Nam                                     64\n",
       "Hongrie                                      60\n",
       "République tchèque                           56\n",
       "Chypre                                       55\n",
       "Slovaquie                                    54\n",
       "Serbie                                       54\n",
       "Réunion                                      51\n",
       "Colombie                                     50\n",
       "Chili                                        49\n",
       "Lettonie                                     48\n",
       "Qatar                                        47\n",
       "Lituanie                                     40\n",
       "Argentine                                    39\n",
       "Guadeloupe                                   38\n",
       "Albanie                                      37\n",
       "Monaco                                       36\n",
       "Liban                                        36\n",
       "Kazakhstan                                   34\n",
       "Estonie                                      33\n",
       "Nigeria                                      32\n",
       "Martinique                                   31\n",
       "Cote D'Ivoire                                30\n",
       "Slovénie                                     28\n",
       "Egypte                                       28\n",
       "Malte                                        26\n",
       "Pérou                                        26\n",
       "Islande                                      25\n",
       "Bahreïn                                      25\n",
       "Géorgie                                      23\n",
       "Cambodge                                     23\n",
       "Azerbaïdjan                                  22\n",
       "Congo                                        21\n",
       "Moldavie                                     20\n",
       "Cameroun                                     20\n",
       "Puerto Rico                                  19\n",
       "Pakistan                                     17\n",
       "Jordanie                                     17\n",
       "Arménie                                      16\n",
       "Macau                                        16\n",
       "Sénégal                                      15\n",
       "Bosnie et Herzegovine                        14\n",
       "Venezuela                                    14\n",
       "Guyane                                       14\n",
       "Équateur                                     13\n",
       "Nouvelle Calédonie                           13\n",
       "Mongolie                                     12\n",
       "Brunei Darussalam                            12\n",
       "Panama                                       12\n",
       "Iran                                         12\n",
       "Myanmar                                      11\n",
       "Gabon                                        11\n",
       "Kenya                                        11\n",
       "Biélorussie                                  10\n",
       "Afghanistan                                  10\n",
       "République dominicaine                       10\n",
       "Jersey                                       10\n",
       "Madagascar                                   10\n",
       "Samoa américaines                             9\n",
       "Bangladesh                                    9\n",
       "Andorre                                       9\n",
       "Oman                                          9\n",
       "Macédoine                                     8\n",
       "Honduras                                      8\n",
       "Costa Rica                                    8\n",
       "Irak                                          8\n",
       "Polynésie Française                           8\n",
       "Bermude                                       7\n",
       "Benin                                         6\n",
       "Angola                                        6\n",
       "Djibouti                                      6\n",
       "Trinidad et Tobago                            5\n",
       "Mali                                          5\n",
       "Guinée                                        5\n",
       "Maurice                                       5\n",
       "Zimbabwe                                      5\n",
       "Tanzanie                                      5\n",
       "Bolivie                                       4\n",
       "Tajikistan                                    4\n",
       "Paraguay                                      4\n",
       "Uruguay                                       4\n",
       "Kirghizistan                                  4\n",
       "Belize                                        4\n",
       "Ouganda                                       4\n",
       "Fidji                                         4\n",
       "Ghana                                         4\n",
       "Guatemala                                     4\n",
       "Antigua et Barbuda                            3\n",
       "Kiribati                                      3\n",
       "Togo                                          3\n",
       "Bahamas                                       3\n",
       "Maldives                                      3\n",
       "Laos                                          3\n",
       "Iles Cayman                                   3\n",
       "Le Salvador                                   3\n",
       "Burkina Faso                                  3\n",
       "Îles Vierges britanniques                     3\n",
       "Nicaragua                                     3\n",
       "Guernsey                                      3\n",
       "Barbade                                       3\n",
       "Îles Vierges (U.S.)                           3\n",
       "Aruba                                         3\n",
       "Île Bouvet                                    3\n",
       "Îles Turques-et-Caïques                       3\n",
       "Liechtenstein                                 3\n",
       "Anguilla                                      2\n",
       "Dominique                                     2\n",
       "Grenade                                       2\n",
       "Haiti                                         2\n",
       "Gambie                                        2\n",
       "Îles Féroé                                    2\n",
       "Mauritanie                                    2\n",
       "Uzbekistan                                    2\n",
       "Cuba                                          2\n",
       "Botswana                                      2\n",
       "Syrie                                         2\n",
       "Guam                                          2\n",
       "Îles Canaries                                 2\n",
       "Jamaique                                      2\n",
       "Namibie                                       2\n",
       "Île de Man                                    1\n",
       "Guyana                                        1\n",
       "Îles Malouines                                1\n",
       "Antarctique                                   1\n",
       "Sainte Lucie                                  1\n",
       "Érythrée                                      1\n",
       "Palau                                         1\n",
       "Gibraltar                                     1\n",
       "Suriname                                      1\n",
       "Éthiopie                                      1\n",
       "Nepal                                         1\n",
       "Corée du Nord                                 1\n",
       "Mayotte                                       1\n",
       "Antilles néerlandaises                        1\n",
       "Île Norfolk                                   1\n",
       "République centrafricaine                     1\n",
       "Rwanda                                        1\n",
       "Saint Vincent et les Grenadines               1\n",
       "Saint Kitts et Nevis                          1\n",
       "St Barthélémy                                 1\n",
       "Géorgie du Sud / Iles Sandwich                1\n",
       "Chad                                          1\n",
       "Swaziland                                     1\n",
       "Vanuatu                                       1\n",
       "Niger                                         1\n",
       "Zambie                                        1\n",
       "Sri Lanka                                     1\n",
       "Libye                                         1\n",
       "Samoa                                         1\n",
       "Zaire                                         1\n",
       "Iles mineures éloignées des États-Unis        1\n",
       "Svalbard et Jan Mayen Islands                 1\n",
       "Name: country, dtype: int64"
      ]
     },
     "execution_count": 154,
     "metadata": {},
     "output_type": "execute_result"
    }
   ],
   "source": [
    "df['country'].value_counts()"
   ]
  },
  {
   "cell_type": "markdown",
   "id": "4c738dc0",
   "metadata": {},
   "source": [
    "The name of the countries is in French. So, we will get the English names of the countries for each user using the 'country_data' dataframe."
   ]
  },
  {
   "cell_type": "code",
   "execution_count": 155,
   "id": "9cf7d12b",
   "metadata": {},
   "outputs": [
    {
     "data": {
      "text/html": [
       "<div>\n",
       "<style scoped>\n",
       "    .dataframe tbody tr th:only-of-type {\n",
       "        vertical-align: middle;\n",
       "    }\n",
       "\n",
       "    .dataframe tbody tr th {\n",
       "        vertical-align: top;\n",
       "    }\n",
       "\n",
       "    .dataframe thead th {\n",
       "        text-align: right;\n",
       "    }\n",
       "</style>\n",
       "<table border=\"1\" class=\"dataframe\">\n",
       "  <thead>\n",
       "    <tr style=\"text-align: right;\">\n",
       "      <th></th>\n",
       "      <th>identifierhash</th>\n",
       "      <th>country_en</th>\n",
       "      <th>landmass</th>\n",
       "    </tr>\n",
       "  </thead>\n",
       "  <tbody>\n",
       "    <tr>\n",
       "      <th>0</th>\n",
       "      <td>-7279641312655250028</td>\n",
       "      <td>United States of America</td>\n",
       "      <td>North America</td>\n",
       "    </tr>\n",
       "    <tr>\n",
       "      <th>1</th>\n",
       "      <td>-1456013578740053406</td>\n",
       "      <td>Germany</td>\n",
       "      <td>Europe</td>\n",
       "    </tr>\n",
       "    <tr>\n",
       "      <th>2</th>\n",
       "      <td>-6727673442828273069</td>\n",
       "      <td>United States of America</td>\n",
       "      <td>North America</td>\n",
       "    </tr>\n",
       "    <tr>\n",
       "      <th>3</th>\n",
       "      <td>-1803573362480910736</td>\n",
       "      <td>United States of America</td>\n",
       "      <td>North America</td>\n",
       "    </tr>\n",
       "    <tr>\n",
       "      <th>4</th>\n",
       "      <td>-8913288569589793262</td>\n",
       "      <td>France</td>\n",
       "      <td>Europe</td>\n",
       "    </tr>\n",
       "  </tbody>\n",
       "</table>\n",
       "</div>"
      ],
      "text/plain": [
       "        identifierhash                country_en       landmass\n",
       "0 -7279641312655250028  United States of America  North America\n",
       "1 -1456013578740053406                   Germany         Europe\n",
       "2 -6727673442828273069  United States of America  North America\n",
       "3 -1803573362480910736  United States of America  North America\n",
       "4 -8913288569589793262                    France         Europe"
      ]
     },
     "execution_count": 155,
     "metadata": {},
     "output_type": "execute_result"
    }
   ],
   "source": [
    "country_data.head()"
   ]
  },
  {
   "cell_type": "markdown",
   "id": "2138b63d",
   "metadata": {},
   "source": [
    "Before joining two dataframes we should make sure that the joining column name should be same in both the dataframes."
   ]
  },
  {
   "cell_type": "code",
   "execution_count": 156,
   "id": "3bcb72f8",
   "metadata": {},
   "outputs": [],
   "source": [
    "# change column names\n",
    "country_data.columns = ['identifierHash', 'country_en', 'landmass']"
   ]
  },
  {
   "cell_type": "code",
   "execution_count": 157,
   "id": "7ff789d0",
   "metadata": {},
   "outputs": [],
   "source": [
    "# join country data to the main data\n",
    "df = pd.merge(df, country_data, how = \"left\")\n",
    "\n",
    "# remove rows with missing data\n",
    "df = df.dropna()"
   ]
  },
  {
   "cell_type": "code",
   "execution_count": 158,
   "id": "781c9bd1",
   "metadata": {},
   "outputs": [
    {
     "data": {
      "text/html": [
       "<div>\n",
       "<style scoped>\n",
       "    .dataframe tbody tr th:only-of-type {\n",
       "        vertical-align: middle;\n",
       "    }\n",
       "\n",
       "    .dataframe tbody tr th {\n",
       "        vertical-align: top;\n",
       "    }\n",
       "\n",
       "    .dataframe thead th {\n",
       "        text-align: right;\n",
       "    }\n",
       "</style>\n",
       "<table border=\"1\" class=\"dataframe\">\n",
       "  <thead>\n",
       "    <tr style=\"text-align: right;\">\n",
       "      <th></th>\n",
       "      <th>identifierHash</th>\n",
       "      <th>type</th>\n",
       "      <th>country</th>\n",
       "      <th>language</th>\n",
       "      <th>socialNbFollowers</th>\n",
       "      <th>socialNbFollows</th>\n",
       "      <th>socialProductsLiked</th>\n",
       "      <th>productsListed</th>\n",
       "      <th>productsSold</th>\n",
       "      <th>productsPassRate</th>\n",
       "      <th>productsWished</th>\n",
       "      <th>productsBought</th>\n",
       "      <th>gender</th>\n",
       "      <th>civilityGenderId</th>\n",
       "      <th>civilityTitle</th>\n",
       "      <th>hasAnyApp</th>\n",
       "      <th>hasAndroidApp</th>\n",
       "      <th>hasIosApp</th>\n",
       "      <th>hasProfilePicture</th>\n",
       "      <th>daysSinceLastLogin</th>\n",
       "      <th>seniority</th>\n",
       "      <th>seniorityAsMonths</th>\n",
       "      <th>seniorityAsYears</th>\n",
       "      <th>countryCode</th>\n",
       "      <th>country_en</th>\n",
       "      <th>landmass</th>\n",
       "    </tr>\n",
       "  </thead>\n",
       "  <tbody>\n",
       "    <tr>\n",
       "      <th>0</th>\n",
       "      <td>-7279641312655250028</td>\n",
       "      <td>user</td>\n",
       "      <td>Etats-Unis</td>\n",
       "      <td>en</td>\n",
       "      <td>3</td>\n",
       "      <td>8</td>\n",
       "      <td>0</td>\n",
       "      <td>0</td>\n",
       "      <td>0</td>\n",
       "      <td>0.0</td>\n",
       "      <td>0</td>\n",
       "      <td>0</td>\n",
       "      <td>F</td>\n",
       "      <td>2</td>\n",
       "      <td>mrs</td>\n",
       "      <td>False</td>\n",
       "      <td>False</td>\n",
       "      <td>False</td>\n",
       "      <td>True</td>\n",
       "      <td>709</td>\n",
       "      <td>3205</td>\n",
       "      <td>106.83</td>\n",
       "      <td>8.9</td>\n",
       "      <td>us</td>\n",
       "      <td>United States of America</td>\n",
       "      <td>North America</td>\n",
       "    </tr>\n",
       "    <tr>\n",
       "      <th>1</th>\n",
       "      <td>-1456013578740053406</td>\n",
       "      <td>user</td>\n",
       "      <td>Allemagne</td>\n",
       "      <td>de</td>\n",
       "      <td>3</td>\n",
       "      <td>8</td>\n",
       "      <td>0</td>\n",
       "      <td>0</td>\n",
       "      <td>0</td>\n",
       "      <td>0.0</td>\n",
       "      <td>0</td>\n",
       "      <td>0</td>\n",
       "      <td>F</td>\n",
       "      <td>2</td>\n",
       "      <td>mrs</td>\n",
       "      <td>False</td>\n",
       "      <td>False</td>\n",
       "      <td>False</td>\n",
       "      <td>True</td>\n",
       "      <td>709</td>\n",
       "      <td>3205</td>\n",
       "      <td>106.83</td>\n",
       "      <td>8.9</td>\n",
       "      <td>de</td>\n",
       "      <td>Germany</td>\n",
       "      <td>Europe</td>\n",
       "    </tr>\n",
       "    <tr>\n",
       "      <th>2</th>\n",
       "      <td>9006282053848196165</td>\n",
       "      <td>user</td>\n",
       "      <td>Suède</td>\n",
       "      <td>en</td>\n",
       "      <td>3</td>\n",
       "      <td>8</td>\n",
       "      <td>0</td>\n",
       "      <td>0</td>\n",
       "      <td>0</td>\n",
       "      <td>0.0</td>\n",
       "      <td>0</td>\n",
       "      <td>0</td>\n",
       "      <td>M</td>\n",
       "      <td>1</td>\n",
       "      <td>mr</td>\n",
       "      <td>True</td>\n",
       "      <td>False</td>\n",
       "      <td>True</td>\n",
       "      <td>True</td>\n",
       "      <td>689</td>\n",
       "      <td>3205</td>\n",
       "      <td>106.83</td>\n",
       "      <td>8.9</td>\n",
       "      <td>se</td>\n",
       "      <td>Sweden</td>\n",
       "      <td>Europe</td>\n",
       "    </tr>\n",
       "  </tbody>\n",
       "</table>\n",
       "</div>"
      ],
      "text/plain": [
       "        identifierHash  type     country language  socialNbFollowers  socialNbFollows  socialProductsLiked  productsListed  productsSold  productsPassRate  productsWished  productsBought gender  civilityGenderId civilityTitle  hasAnyApp  hasAndroidApp  hasIosApp  hasProfilePicture  daysSinceLastLogin  seniority  seniorityAsMonths  seniorityAsYears countryCode                country_en       landmass\n",
       "0 -7279641312655250028  user  Etats-Unis       en                  3                8                    0               0             0               0.0               0               0      F                 2           mrs      False          False      False               True                 709       3205             106.83               8.9          us  United States of America  North America\n",
       "1 -1456013578740053406  user   Allemagne       de                  3                8                    0               0             0               0.0               0               0      F                 2           mrs      False          False      False               True                 709       3205             106.83               8.9          de                   Germany         Europe\n",
       "2  9006282053848196165  user       Suède       en                  3                8                    0               0             0               0.0               0               0      M                 1            mr       True          False       True               True                 689       3205             106.83               8.9          se                    Sweden         Europe"
      ]
     },
     "execution_count": 158,
     "metadata": {},
     "output_type": "execute_result"
    }
   ],
   "source": [
    "df.head(3)"
   ]
  },
  {
   "cell_type": "code",
   "execution_count": 159,
   "id": "7e97de55",
   "metadata": {},
   "outputs": [
    {
     "data": {
      "text/plain": [
       "France                                                                       25135\n",
       "United States of America                                                     20602\n",
       "United Kingdom of Great Britain and Northern Ireland                         11310\n",
       "Italy                                                                         8015\n",
       "Germany                                                                       6567\n",
       "Kingdom of Spain                                                              5706\n",
       "Commonwealth of Australia                                                     2719\n",
       "Denmark                                                                       1892\n",
       "Sweden                                                                        1826\n",
       "Kingdom of Belgium                                                            1666\n",
       "Canada                                                                        1577\n",
       "Netherlands                                                                   1529\n",
       "Switzerland                                                                    859\n",
       "Hong Kong Special Administrative Region of the People's Republic of China      854\n",
       "Finland                                                                        661\n",
       "Austria                                                                        624\n",
       "Russia                                                                         490\n",
       "Ireland                                                                        452\n",
       "People's Republic of China                                                     428\n",
       "Romania                                                                        329\n",
       "Republic of Singapore                                                          260\n",
       "Greece                                                                         229\n",
       "Portugal                                                                       212\n",
       "Poland                                                                         193\n",
       "Mexico                                                                         191\n",
       "Kingdom of Norway                                                              178\n",
       "Morocco                                                                        167\n",
       "Japan                                                                          165\n",
       "India                                                                          157\n",
       "Saudi Arabia                                                                   143\n",
       "South Korea                                                                    138\n",
       "Republic of China                                                              133\n",
       "United Arab Emirates                                                           131\n",
       "Malaysia                                                                       119\n",
       "Croatia                                                                        116\n",
       "New Zealand                                                                    113\n",
       "Luxembourg                                                                     111\n",
       "Ukraine                                                                        110\n",
       "Turkey                                                                         105\n",
       "Israel                                                                         105\n",
       "Philippines                                                                     98\n",
       "Brazil                                                                          95\n",
       "Tunisia                                                                         85\n",
       "Republic of South Africa                                                        83\n",
       "Bulgaria                                                                        82\n",
       "Thailand                                                                        78\n",
       "Kuwait                                                                          77\n",
       "Algeria                                                                         76\n",
       "Indonesia                                                                       75\n",
       "Vietnam                                                                         64\n",
       "Hungary                                                                         60\n",
       "Czech Republic                                                                  56\n",
       "Cyprus                                                                          55\n",
       "Serbia                                                                          54\n",
       "Slovakia                                                                        54\n",
       "Réunion                                                                         51\n",
       "Colombia                                                                        50\n",
       "Chile                                                                           49\n",
       "Latvia                                                                          48\n",
       "Qatar                                                                           47\n",
       "Lithuania                                                                       40\n",
       "Argentina                                                                       39\n",
       "Guadeloupe                                                                      38\n",
       "Albania                                                                         37\n",
       "Lebanon                                                                         36\n",
       "Monaco                                                                          36\n",
       "Kazakhstan                                                                      34\n",
       "Estonia                                                                         33\n",
       "Federal Republic of Nigeria                                                     32\n",
       "Martinique                                                                      31\n",
       "Ivory Coast                                                                     30\n",
       "Egypt                                                                           28\n",
       "Slovenia                                                                        28\n",
       "Republic of Malta                                                               26\n",
       "Peru                                                                            26\n",
       "Iceland                                                                         25\n",
       "Bahrain                                                                         25\n",
       "Cambodia                                                                        23\n",
       "Georgia                                                                         23\n",
       "Azerbaijan                                                                      22\n",
       "Republic of the Congo                                                           21\n",
       "Cameroon                                                                        20\n",
       "Moldova                                                                         20\n",
       "Puerto Rico                                                                     19\n",
       "Jordan                                                                          17\n",
       "Pakistan                                                                        17\n",
       "Macau                                                                           16\n",
       "Armenia                                                                         16\n",
       "Guyana                                                                          15\n",
       "Senegal                                                                         15\n",
       "Bosnia and Herzegovina                                                          14\n",
       "Venezuela                                                                       14\n",
       "New Caledonia                                                                   13\n",
       "Republic of Ecuador                                                             13\n",
       "Panama                                                                          12\n",
       "Mongolia                                                                        12\n",
       "Iran                                                                            12\n",
       "Brunei                                                                          12\n",
       "Republic of Kenya                                                               11\n",
       "Republic of the Union of Myanmar                                                11\n",
       "Gabon                                                                           11\n",
       "Belarus                                                                         10\n",
       "Madagascar                                                                      10\n",
       "Afghanistan                                                                     10\n",
       "Jersey                                                                          10\n",
       "Dominican Republic                                                              10\n",
       "Bangladesh                                                                       9\n",
       "Oman                                                                             9\n",
       "American Samoa                                                                   9\n",
       "Andorra                                                                          9\n",
       "Honduras                                                                         8\n",
       "French Polynesia                                                                 8\n",
       "Iraq                                                                             8\n",
       "Macedonia                                                                        8\n",
       "Costa Rica                                                                       8\n",
       "Bermuda                                                                          7\n",
       "Benin                                                                            6\n",
       "Djibouti                                                                         6\n",
       "Angola                                                                           6\n",
       "Mauritius                                                                        5\n",
       "Tanzania                                                                         5\n",
       "Mali                                                                             5\n",
       "Guinea                                                                           5\n",
       "Trinidad and Tobago                                                              5\n",
       "Zimbabwe                                                                         5\n",
       "Tajikistan                                                                       4\n",
       "Belize                                                                           4\n",
       "Uganda                                                                           4\n",
       "Guatemala                                                                        4\n",
       "Ghana                                                                            4\n",
       "Uruguay                                                                          4\n",
       "Republic of Fiji                                                                 4\n",
       "Kyrgyzstan                                                                       4\n",
       "Bolivia                                                                          4\n",
       "Paraguay                                                                         4\n",
       "Guernsey                                                                         3\n",
       "Bahamas                                                                          3\n",
       "Kiribati                                                                         3\n",
       "Liechtenstein                                                                    3\n",
       "Laos                                                                             3\n",
       "British Virgin Islands                                                           3\n",
       "Barbados                                                                         3\n",
       "Togo                                                                             3\n",
       "Antigua and Barbuda                                                              3\n",
       "Turks and Caicos Islands                                                         3\n",
       "Nicaragua                                                                        3\n",
       "Aruba                                                                            3\n",
       "United States Virgin Islands                                                     3\n",
       "El Salvador                                                                      3\n",
       "Burkina Faso                                                                     3\n",
       "Maldives                                                                         3\n",
       "Cayman Islands                                                                   3\n",
       "Haiti                                                                            2\n",
       "Uzbekistan                                                                       2\n",
       "Syria                                                                            2\n",
       "Republic of The Gambia                                                           2\n",
       "Guam                                                                             2\n",
       "Anguilla                                                                         2\n",
       "Cuba                                                                             2\n",
       "Grenada                                                                          2\n",
       "Faroe Islands                                                                    2\n",
       "Jamaica                                                                          2\n",
       "Botswana                                                                         2\n",
       "Commonwealth of Dominica                                                         2\n",
       "Mauritania                                                                       2\n",
       "Namibia                                                                          2\n",
       "Libya                                                                            1\n",
       "Norfolk Island                                                                   1\n",
       "Saint Kitts and Nevis                                                            1\n",
       "Saint-Barthélemy                                                                 1\n",
       "Eritrea                                                                          1\n",
       "Niger                                                                            1\n",
       "Central African Republic                                                         1\n",
       "Saint Lucia                                                                      1\n",
       "Chad                                                                             1\n",
       "Palau                                                                            1\n",
       "Kingdom of Eswatini                                                              1\n",
       "Saint Vincent and the Grenadines                                                 1\n",
       "Zambia                                                                           1\n",
       "Isle of Man                                                                      1\n",
       "Democratic Republic of the Congo                                                 1\n",
       "Gibraltar                                                                        1\n",
       "Suriname                                                                         1\n",
       "Nepal                                                                            1\n",
       "Samoa                                                                            1\n",
       "North Korea                                                                      1\n",
       "Sri Lanka                                                                        1\n",
       "Vanuatu                                                                          1\n",
       "Falkland Islands                                                                 1\n",
       "Rwanda                                                                           1\n",
       "Mayotte                                                                          1\n",
       "South Georgia and the South Sandwich Islands                                     1\n",
       "Ethiopia                                                                         1\n",
       "Name: country_en, dtype: int64"
      ]
     },
     "execution_count": 159,
     "metadata": {},
     "output_type": "execute_result"
    }
   ],
   "source": [
    "df['country_en'].value_counts()"
   ]
  },
  {
   "cell_type": "markdown",
   "id": "2ca75b7d",
   "metadata": {},
   "source": [
    "It is quite evident most of the users belong to Europe and US. Let's also check out distribution of users landmass-wise."
   ]
  },
  {
   "cell_type": "code",
   "execution_count": 160,
   "id": "d7af96d4",
   "metadata": {},
   "outputs": [
    {
     "data": {
      "text/plain": [
       "Europe              68451\n",
       "North America       22562\n",
       "Asia                 3235\n",
       "Oceania              2875\n",
       "Africa                688\n",
       "Eurasia               674\n",
       "South America         316\n",
       "Asia and Oceania       75\n",
       "Africa and Asia        28\n",
       "Name: landmass, dtype: int64"
      ]
     },
     "execution_count": 160,
     "metadata": {},
     "output_type": "execute_result"
    }
   ],
   "source": [
    "df['landmass'].value_counts()"
   ]
  },
  {
   "cell_type": "markdown",
   "id": "8708a4dc",
   "metadata": {},
   "source": [
    "# Data Cleaning"
   ]
  },
  {
   "cell_type": "markdown",
   "id": "22976825",
   "metadata": {},
   "source": [
    "Columns to ignore:\n",
    "\n",
    "* __type__ - only one value is there for all the rows\n",
    "* __country__ - country names in French\n",
    "* __civilityGenderId__ - not required\n",
    "* __civilityTitle__ - not required\n",
    "* __countryCode__ - we will use country names in English language, so this feature is not needed"
   ]
  },
  {
   "cell_type": "code",
   "execution_count": 161,
   "id": "1430514c",
   "metadata": {},
   "outputs": [],
   "source": [
    "# delete columns\n",
    "df = df.drop(['type', 'country', 'civilityGenderId', 'civilityTitle', 'countryCode'], axis=1)"
   ]
  },
  {
   "cell_type": "markdown",
   "id": "7822c8fa",
   "metadata": {},
   "source": [
    "Keep data of users that have 'daysSinceLastLogin' <= 3285"
   ]
  },
  {
   "cell_type": "code",
   "execution_count": 162,
   "id": "2c2ae946",
   "metadata": {},
   "outputs": [],
   "source": [
    "df = df[df['daysSinceLastLogin'] <= 3285]"
   ]
  },
  {
   "cell_type": "markdown",
   "id": "6994abad",
   "metadata": {},
   "source": [
    "Remove users that have likes count more than 450."
   ]
  },
  {
   "cell_type": "code",
   "execution_count": 163,
   "id": "ccba8e85",
   "metadata": {},
   "outputs": [],
   "source": [
    "df = df[df['socialProductsLiked'] <= 450]"
   ]
  },
  {
   "cell_type": "markdown",
   "id": "30fc1045",
   "metadata": {},
   "source": [
    "# Adaptation"
   ]
  },
  {
   "cell_type": "markdown",
   "id": "0f8c560f",
   "metadata": {},
   "source": [
    "### 1. New Column - User Activity\n",
    "\n",
    "As observed earlier, around 20% of the users have logged in at least once in the last 450 days. So, lets highlight such customers."
   ]
  },
  {
   "cell_type": "code",
   "execution_count": 164,
   "id": "acf299aa",
   "metadata": {},
   "outputs": [],
   "source": [
    "df[\"userActivity\"] = np.where(df['daysSinceLastLogin'] <= 450, \"more active\", \"less active\")"
   ]
  },
  {
   "cell_type": "markdown",
   "id": "8b3f4b00",
   "metadata": {},
   "source": [
    "### 2. New Column - Social Media Influence Score\n",
    "\n",
    "Another important feature that we can create is the ratio of the number of followers of a user and the users being followed by him/her. Higher the ratio the more influence that user has on the social media."
   ]
  },
  {
   "cell_type": "code",
   "execution_count": 166,
   "id": "37cbcf07",
   "metadata": {},
   "outputs": [],
   "source": [
    "df[\"socialInfluenceScore\"] = df[\"socialNbFollowers\"]/df[\"socialNbFollows\"]"
   ]
  },
  {
   "cell_type": "markdown",
   "id": "ac5cfac5",
   "metadata": {},
   "source": [
    "# Data Visualization"
   ]
  },
  {
   "cell_type": "markdown",
   "id": "4a933a76",
   "metadata": {},
   "source": [
    "### 1. Top 5 countries in terms of user count"
   ]
  },
  {
   "cell_type": "code",
   "execution_count": 189,
   "id": "2de0152f",
   "metadata": {},
   "outputs": [],
   "source": [
    "# get top 5 countries based on user count\n",
    "data = df['country_en'].value_counts().head(5).reset_index()"
   ]
  },
  {
   "cell_type": "code",
   "execution_count": 190,
   "id": "eccfd6d2",
   "metadata": {},
   "outputs": [
    {
     "data": {
      "text/html": [
       "<div>\n",
       "<style scoped>\n",
       "    .dataframe tbody tr th:only-of-type {\n",
       "        vertical-align: middle;\n",
       "    }\n",
       "\n",
       "    .dataframe tbody tr th {\n",
       "        vertical-align: top;\n",
       "    }\n",
       "\n",
       "    .dataframe thead th {\n",
       "        text-align: right;\n",
       "    }\n",
       "</style>\n",
       "<table border=\"1\" class=\"dataframe\">\n",
       "  <thead>\n",
       "    <tr style=\"text-align: right;\">\n",
       "      <th></th>\n",
       "      <th>index</th>\n",
       "      <th>country_en</th>\n",
       "    </tr>\n",
       "  </thead>\n",
       "  <tbody>\n",
       "    <tr>\n",
       "      <th>0</th>\n",
       "      <td>France</td>\n",
       "      <td>25120</td>\n",
       "    </tr>\n",
       "    <tr>\n",
       "      <th>1</th>\n",
       "      <td>United States of America</td>\n",
       "      <td>20581</td>\n",
       "    </tr>\n",
       "    <tr>\n",
       "      <th>2</th>\n",
       "      <td>United Kingdom of Great Britain and Northern I...</td>\n",
       "      <td>11297</td>\n",
       "    </tr>\n",
       "    <tr>\n",
       "      <th>3</th>\n",
       "      <td>Italy</td>\n",
       "      <td>8002</td>\n",
       "    </tr>\n",
       "    <tr>\n",
       "      <th>4</th>\n",
       "      <td>Germany</td>\n",
       "      <td>6552</td>\n",
       "    </tr>\n",
       "  </tbody>\n",
       "</table>\n",
       "</div>"
      ],
      "text/plain": [
       "                                               index  country_en\n",
       "0                                             France       25120\n",
       "1                           United States of America       20581\n",
       "2  United Kingdom of Great Britain and Northern I...       11297\n",
       "3                                              Italy        8002\n",
       "4                                            Germany        6552"
      ]
     },
     "execution_count": 190,
     "metadata": {},
     "output_type": "execute_result"
    }
   ],
   "source": [
    "data"
   ]
  },
  {
   "cell_type": "code",
   "execution_count": 191,
   "id": "70eaa881",
   "metadata": {},
   "outputs": [
    {
     "data": {
      "image/png": "[encoded data removed]",
      "text/plain": [
       "<Figure size 640x480 with 1 Axes>"
      ]
     },
     "metadata": {},
     "output_type": "display_data"
    }
   ],
   "source": [
    "plt.pie(data['country_en'], labels = data['index'], colors = sns.color_palette('pastel')[0:6], autopct='%.0f%%')\n",
    "plt.show()"
   ]
  },
  {
   "cell_type": "markdown",
   "id": "bb8d5729",
   "metadata": {},
   "source": [
    "France has the most number of users (35%) followed by US (29%) and UK (16%)."
   ]
  },
  {
   "cell_type": "markdown",
   "id": "a461476b",
   "metadata": {},
   "source": [
    "### 2. Products bought and products sold, gender wise"
   ]
  },
  {
   "cell_type": "code",
   "execution_count": 181,
   "id": "914446e4",
   "metadata": {},
   "outputs": [
    {
     "data": {
      "image/png": "[encoded data removed]",
      "text/plain": [
       "<Figure size 640x480 with 1 Axes>"
      ]
     },
     "metadata": {},
     "output_type": "display_data"
    }
   ],
   "source": [
    "sns.scatterplot(data = df, x = 'productsSold', y = 'productsBought', hue=\"gender\")\n",
    "plt.show()"
   ]
  },
  {
   "cell_type": "markdown",
   "id": "0d0c5e1a",
   "metadata": {},
   "source": [
    "### 3. Social media influence score by user activity level"
   ]
  },
  {
   "cell_type": "code",
   "execution_count": 185,
   "id": "11e77a6f",
   "metadata": {},
   "outputs": [
    {
     "data": {
      "image/png": "[encoded data removed]",
      "text/plain": [
       "<Figure size 600x1000 with 1 Axes>"
      ]
     },
     "metadata": {},
     "output_type": "display_data"
    }
   ],
   "source": [
    "plt.figure(figsize=(6,10))\n",
    "sns.stripplot(data = df, x = 'userActivity', y = 'socialInfluenceScore')\n",
    "plt.show()"
   ]
  },
  {
   "cell_type": "markdown",
   "id": "5a9caf69",
   "metadata": {},
   "source": [
    "### 4. Correlation among number of products liked, number of products and count of products bought "
   ]
  },
  {
   "cell_type": "code",
   "execution_count": 194,
   "id": "e10f844e",
   "metadata": {},
   "outputs": [
    {
     "data": {
      "image/png": "[encoded data removed]",
      "text/plain": [
       "<Figure size 640x480 with 2 Axes>"
      ]
     },
     "metadata": {},
     "output_type": "display_data"
    }
   ],
   "source": [
    "sns.heatmap(df[['socialProductsLiked', 'productsWished', 'productsBought']].corr(), annot=True)\n",
    "plt.show()"
   ]
  },
  {
   "cell_type": "markdown",
   "id": "8f4af1a2",
   "metadata": {},
   "source": [
    "There is a strong correlation between number of products kept in the wishlist and the number of products purchased."
   ]
  }
 ],
 "metadata": {
  "kernelspec": {
   "display_name": "Python 3 (ipykernel)",
   "language": "python",
   "name": "python3"
  },
  "language_info": {
   "codemirror_mode": {
    "name": "ipython",
    "version": 3
   },
   "file_extension": ".py",
   "mimetype": "text/x-python",
   "name": "python",
   "nbconvert_exporter": "python",
   "pygments_lexer": "ipython3",
   "version": "3.8.5"
  }
 },
 "nbformat": 4,
 "nbformat_minor": 5
}
